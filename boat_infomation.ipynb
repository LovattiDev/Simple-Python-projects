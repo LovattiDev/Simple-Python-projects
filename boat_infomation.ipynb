{
 "cells": [
  {
   "cell_type": "code",
   "execution_count": 11,
   "metadata": {},
   "outputs": [],
   "source": [
    "# pegar informações de localização de embarcação\n",
    "# pegar informções adicionais das embarcações\n",
    "# usar o como exemplo IMO: 9824239, 8721791,"
   ]
  },
  {
   "cell_type": "code",
   "execution_count": 1,
   "metadata": {},
   "outputs": [
    {
     "name": "stdout",
     "output_type": "stream",
     "text": [
      "8721791\n"
     ]
    }
   ],
   "source": [
    "# perguntar o código de identificação da embarcação\n",
    "import random\n",
    "\n",
    "lista_nome = [9824239, 8721791]\n",
    "\n",
    "nome = random.sample(lista_nome, 1)\n",
    "print(nome[0])\n",
    "#nome = input(\"Escrva o IMO: \")\n",
    "#print(f\"IMO: {nome}\")"
   ]
  },
  {
   "cell_type": "code",
   "execution_count": 13,
   "metadata": {},
   "outputs": [],
   "source": [
    "# abrir o navagador (Chrome) no site (global fishing watch)\n",
    "\n",
    "from selenium import webdriver\n",
    "from selenium.webdriver.chrome.service import Service\n",
    "from webdriver_manager.chrome import ChromeDriverManager\n",
    "from selenium.webdriver.common.keys import Keys\n",
    "from selenium.webdriver.common.action_chains import ActionChains\n",
    "import time\n",
    "\n",
    "service = Service(ChromeDriverManager().install())\n",
    "nav = webdriver.Chrome(service=service)\n",
    "nav.get(\"https://globalfishingwatch.org/map\")\n",
    "nav.maximize_window()\n",
    "time.sleep(5)\n",
    "nav.find_element('xpath', '/html/body/div[5]/div/div/button').click()\n"
   ]
  },
  {
   "cell_type": "code",
   "execution_count": 14,
   "metadata": {},
   "outputs": [],
   "source": [
    "# fazer login no site\n",
    "\n",
    "usuario = \"matheuslovatti0@gmail.com\"\n",
    "senha = \"ml147014\"\n",
    "#usuario = input(\"Qual o e-mail cadastrado: \")\n",
    "#senha = input(\"Qual a senha cadastrada: \")\n",
    "\n",
    "nav.find_element('xpath', '//*[@id=\"__next\"]/div/aside/div/ul/li[9]/a').click()\n",
    "time.sleep(3)"
   ]
  },
  {
   "cell_type": "code",
   "execution_count": 15,
   "metadata": {},
   "outputs": [],
   "source": [
    "# efetuar o login\n",
    "\n",
    "nav.find_element('xpath', '//*[@id=\"email\"]').send_keys(usuario)\n",
    "nav.find_element('xpath', '//*[@id=\"password\"]').click()\n",
    "nav.find_element('xpath', '//*[@id=\"password\"]').send_keys(senha)\n",
    "nav.find_element('xpath', '//*[@id=\"password\"]').send_keys(Keys.ENTER)\n"
   ]
  },
  {
   "cell_type": "code",
   "execution_count": 16,
   "metadata": {},
   "outputs": [],
   "source": [
    "# procurar a embarcação\n",
    "\n",
    "time.sleep(4)\n",
    "nav.find_element('xpath','//*[@id=\"__next\"]/div/aside/div/div/div[2]/div[2]/div/div[1]/button').click()\n",
    "nav.find_element('xpath', '//*[@id=\"__next\"]/div/aside/div/div/div[2]/div[3]/div[1]/div[1]/button').click()\n",
    "nav.find_element('xpath','//*[@id=\"__next\"]/div/aside/div/div/div[4]/div[1]/button').click()\n",
    "\n",
    "# escrever o IMO e pesquisar a embarcação\n",
    "\n",
    "time.sleep(5)\n",
    "nav.find_element('xpath', '//*[@id=\"downshift-0-input\"]').click()\n",
    "nav.find_element('xpath', '//*[@id=\"downshift-0-input\"]').send_keys(nome[0])"
   ]
  },
  {
   "cell_type": "code",
   "execution_count": 17,
   "metadata": {},
   "outputs": [],
   "source": [
    "# selecionar a embarcação\n",
    "\n",
    "time.sleep(7)\n",
    "nav.find_element('class name', 'Search_searchResult__M_jOw').click()\n",
    "time.sleep(1)\n",
    "nav.find_element('xpath', '//*[@id=\"__next\"]/div/aside/div/div[3]/button').click()\n"
   ]
  },
  {
   "cell_type": "code",
   "execution_count": 18,
   "metadata": {},
   "outputs": [],
   "source": [
    "# pegar informações da embarcação \n",
    "time.sleep(2)\n",
    "info_barco = nav.find_element('xpath', '//*[@id=\"__next\"]/div/aside/div/div/div[4]/div[2]/div/button[2]')\n",
    "ActionChains(nav).move_to_element(info_barco).perform()\n",
    "nav.find_element('xpath', '//*[@id=\"__next\"]/div/aside/div/div/div[4]/div[2]/div/div/div[2]/span/button').click()"
   ]
  },
  {
   "cell_type": "code",
   "execution_count": 19,
   "metadata": {},
   "outputs": [
    {
     "name": "stdout",
     "output_type": "stream",
     "text": [
      "Nome: Tita\n",
      "\n"
     ]
    },
    {
     "ename": "NoSuchElementException",
     "evalue": "Message: no such element: Unable to locate element: {\"method\":\"xpath\",\"selector\":\"//*[@id=\"tippy-148\"]/div/ul/li[1]/span\"}\n  (Session info: chrome=117.0.5938.149); For documentation on this error, please visit: https://www.selenium.dev/documentation/webdriver/troubleshooting/errors#no-such-element-exception\nStacktrace:\n0   chromedriver                        0x000000010679d018 chromedriver + 5042200\n1   chromedriver                        0x0000000106794743 chromedriver + 5007171\n2   chromedriver                        0x000000010633b577 chromedriver + 447863\n3   chromedriver                        0x000000010638a349 chromedriver + 770889\n4   chromedriver                        0x000000010638a501 chromedriver + 771329\n5   chromedriver                        0x00000001063d0264 chromedriver + 1057380\n6   chromedriver                        0x00000001063b168d chromedriver + 931469\n7   chromedriver                        0x00000001063cd641 chromedriver + 1046081\n8   chromedriver                        0x00000001063b1433 chromedriver + 930867\n9   chromedriver                        0x000000010637c062 chromedriver + 712802\n10  chromedriver                        0x000000010637d28e chromedriver + 717454\n11  chromedriver                        0x000000010675edb9 chromedriver + 4787641\n12  chromedriver                        0x0000000106763f6d chromedriver + 4808557\n13  chromedriver                        0x000000010676aec2 chromedriver + 4837058\n14  chromedriver                        0x0000000106764c9d chromedriver + 4811933\n15  chromedriver                        0x0000000106736efc chromedriver + 4624124\n16  chromedriver                        0x0000000106783898 chromedriver + 4937880\n17  chromedriver                        0x0000000106783a50 chromedriver + 4938320\n18  chromedriver                        0x000000010679437e chromedriver + 5006206\n19  libsystem_pthread.dylib             0x00007ff80542c4e1 _pthread_start + 125\n20  libsystem_pthread.dylib             0x00007ff805427f6b thread_start + 15\n",
     "output_type": "error",
     "traceback": [
      "\u001b[0;31m---------------------------------------------------------------------------\u001b[0m",
      "\u001b[0;31mNoSuchElementException\u001b[0m                    Traceback (most recent call last)",
      "\u001b[1;32m/Users/matheuslovatti/Documents/Projects/boat_infomation.ipynb Cell 9\u001b[0m line \u001b[0;36m5\n\u001b[1;32m      <a href='vscode-notebook-cell:/Users/matheuslovatti/Documents/Projects/boat_infomation.ipynb#X11sZmlsZQ%3D%3D?line=2'>3</a>\u001b[0m nome_embarcacao \u001b[39m=\u001b[39m nav\u001b[39m.\u001b[39mfind_element(\u001b[39m'\u001b[39m\u001b[39mxpath\u001b[39m\u001b[39m'\u001b[39m, \u001b[39m'\u001b[39m\u001b[39m//*[@id=\u001b[39m\u001b[39m\"\u001b[39m\u001b[39m__next\u001b[39m\u001b[39m\"\u001b[39m\u001b[39m]/div/aside/div/div/div[4]/div[2]/div/h3/span/span\u001b[39m\u001b[39m'\u001b[39m)\n\u001b[1;32m      <a href='vscode-notebook-cell:/Users/matheuslovatti/Documents/Projects/boat_infomation.ipynb#X11sZmlsZQ%3D%3D?line=3'>4</a>\u001b[0m \u001b[39mprint\u001b[39m(\u001b[39mf\u001b[39m\u001b[39m'\u001b[39m\u001b[39mNome: \u001b[39m\u001b[39m{\u001b[39;00mnome_embarcacao\u001b[39m.\u001b[39mtext\u001b[39m}\u001b[39;00m\u001b[39m\\n\u001b[39;00m\u001b[39m'\u001b[39m)\n\u001b[0;32m----> <a href='vscode-notebook-cell:/Users/matheuslovatti/Documents/Projects/boat_infomation.ipynb#X11sZmlsZQ%3D%3D?line=4'>5</a>\u001b[0m bandeira \u001b[39m=\u001b[39m nav\u001b[39m.\u001b[39;49mfind_element(\u001b[39m'\u001b[39;49m\u001b[39mxpath\u001b[39;49m\u001b[39m'\u001b[39;49m, \u001b[39m'\u001b[39;49m\u001b[39m//*[@id=\u001b[39;49m\u001b[39m\"\u001b[39;49m\u001b[39mtippy-148\u001b[39;49m\u001b[39m\"\u001b[39;49m\u001b[39m]/div/ul/li[1]/span\u001b[39;49m\u001b[39m'\u001b[39;49m)\n\u001b[1;32m      <a href='vscode-notebook-cell:/Users/matheuslovatti/Documents/Projects/boat_infomation.ipynb#X11sZmlsZQ%3D%3D?line=5'>6</a>\u001b[0m \u001b[39mprint\u001b[39m(\u001b[39mf\u001b[39m\u001b[39m'\u001b[39m\u001b[39mBandeira: \u001b[39m\u001b[39m{\u001b[39;00mbandeira\u001b[39m.\u001b[39mtext\u001b[39m}\u001b[39;00m\u001b[39m\\n\u001b[39;00m\u001b[39m'\u001b[39m)\n\u001b[1;32m      <a href='vscode-notebook-cell:/Users/matheuslovatti/Documents/Projects/boat_infomation.ipynb#X11sZmlsZQ%3D%3D?line=6'>7</a>\u001b[0m imo \u001b[39m=\u001b[39m nav\u001b[39m.\u001b[39mfind_element(\u001b[39m'\u001b[39m\u001b[39mxpath\u001b[39m\u001b[39m'\u001b[39m, \u001b[39m'\u001b[39m\u001b[39m//*[@id=\u001b[39m\u001b[39m\"\u001b[39m\u001b[39mtippy-148\u001b[39m\u001b[39m\"\u001b[39m\u001b[39m]/div/ul/li[2]/span\u001b[39m\u001b[39m'\u001b[39m)\n",
      "File \u001b[0;32m~/Library/Python/3.9/lib/python/site-packages/selenium/webdriver/remote/webdriver.py:738\u001b[0m, in \u001b[0;36mWebDriver.find_element\u001b[0;34m(self, by, value)\u001b[0m\n\u001b[1;32m    735\u001b[0m     by \u001b[39m=\u001b[39m By\u001b[39m.\u001b[39mCSS_SELECTOR\n\u001b[1;32m    736\u001b[0m     value \u001b[39m=\u001b[39m \u001b[39mf\u001b[39m\u001b[39m'\u001b[39m\u001b[39m[name=\u001b[39m\u001b[39m\"\u001b[39m\u001b[39m{\u001b[39;00mvalue\u001b[39m}\u001b[39;00m\u001b[39m\"\u001b[39m\u001b[39m]\u001b[39m\u001b[39m'\u001b[39m\n\u001b[0;32m--> 738\u001b[0m \u001b[39mreturn\u001b[39;00m \u001b[39mself\u001b[39;49m\u001b[39m.\u001b[39;49mexecute(Command\u001b[39m.\u001b[39;49mFIND_ELEMENT, {\u001b[39m\"\u001b[39;49m\u001b[39musing\u001b[39;49m\u001b[39m\"\u001b[39;49m: by, \u001b[39m\"\u001b[39;49m\u001b[39mvalue\u001b[39;49m\u001b[39m\"\u001b[39;49m: value})[\u001b[39m\"\u001b[39m\u001b[39mvalue\u001b[39m\u001b[39m\"\u001b[39m]\n",
      "File \u001b[0;32m~/Library/Python/3.9/lib/python/site-packages/selenium/webdriver/remote/webdriver.py:344\u001b[0m, in \u001b[0;36mWebDriver.execute\u001b[0;34m(self, driver_command, params)\u001b[0m\n\u001b[1;32m    342\u001b[0m response \u001b[39m=\u001b[39m \u001b[39mself\u001b[39m\u001b[39m.\u001b[39mcommand_executor\u001b[39m.\u001b[39mexecute(driver_command, params)\n\u001b[1;32m    343\u001b[0m \u001b[39mif\u001b[39;00m response:\n\u001b[0;32m--> 344\u001b[0m     \u001b[39mself\u001b[39;49m\u001b[39m.\u001b[39;49merror_handler\u001b[39m.\u001b[39;49mcheck_response(response)\n\u001b[1;32m    345\u001b[0m     response[\u001b[39m\"\u001b[39m\u001b[39mvalue\u001b[39m\u001b[39m\"\u001b[39m] \u001b[39m=\u001b[39m \u001b[39mself\u001b[39m\u001b[39m.\u001b[39m_unwrap_value(response\u001b[39m.\u001b[39mget(\u001b[39m\"\u001b[39m\u001b[39mvalue\u001b[39m\u001b[39m\"\u001b[39m, \u001b[39mNone\u001b[39;00m))\n\u001b[1;32m    346\u001b[0m     \u001b[39mreturn\u001b[39;00m response\n",
      "File \u001b[0;32m~/Library/Python/3.9/lib/python/site-packages/selenium/webdriver/remote/errorhandler.py:229\u001b[0m, in \u001b[0;36mErrorHandler.check_response\u001b[0;34m(self, response)\u001b[0m\n\u001b[1;32m    227\u001b[0m         alert_text \u001b[39m=\u001b[39m value[\u001b[39m\"\u001b[39m\u001b[39malert\u001b[39m\u001b[39m\"\u001b[39m]\u001b[39m.\u001b[39mget(\u001b[39m\"\u001b[39m\u001b[39mtext\u001b[39m\u001b[39m\"\u001b[39m)\n\u001b[1;32m    228\u001b[0m     \u001b[39mraise\u001b[39;00m exception_class(message, screen, stacktrace, alert_text)  \u001b[39m# type: ignore[call-arg]  # mypy is not smart enough here\u001b[39;00m\n\u001b[0;32m--> 229\u001b[0m \u001b[39mraise\u001b[39;00m exception_class(message, screen, stacktrace)\n",
      "\u001b[0;31mNoSuchElementException\u001b[0m: Message: no such element: Unable to locate element: {\"method\":\"xpath\",\"selector\":\"//*[@id=\"tippy-148\"]/div/ul/li[1]/span\"}\n  (Session info: chrome=117.0.5938.149); For documentation on this error, please visit: https://www.selenium.dev/documentation/webdriver/troubleshooting/errors#no-such-element-exception\nStacktrace:\n0   chromedriver                        0x000000010679d018 chromedriver + 5042200\n1   chromedriver                        0x0000000106794743 chromedriver + 5007171\n2   chromedriver                        0x000000010633b577 chromedriver + 447863\n3   chromedriver                        0x000000010638a349 chromedriver + 770889\n4   chromedriver                        0x000000010638a501 chromedriver + 771329\n5   chromedriver                        0x00000001063d0264 chromedriver + 1057380\n6   chromedriver                        0x00000001063b168d chromedriver + 931469\n7   chromedriver                        0x00000001063cd641 chromedriver + 1046081\n8   chromedriver                        0x00000001063b1433 chromedriver + 930867\n9   chromedriver                        0x000000010637c062 chromedriver + 712802\n10  chromedriver                        0x000000010637d28e chromedriver + 717454\n11  chromedriver                        0x000000010675edb9 chromedriver + 4787641\n12  chromedriver                        0x0000000106763f6d chromedriver + 4808557\n13  chromedriver                        0x000000010676aec2 chromedriver + 4837058\n14  chromedriver                        0x0000000106764c9d chromedriver + 4811933\n15  chromedriver                        0x0000000106736efc chromedriver + 4624124\n16  chromedriver                        0x0000000106783898 chromedriver + 4937880\n17  chromedriver                        0x0000000106783a50 chromedriver + 4938320\n18  chromedriver                        0x000000010679437e chromedriver + 5006206\n19  libsystem_pthread.dylib             0x00007ff80542c4e1 _pthread_start + 125\n20  libsystem_pthread.dylib             0x00007ff805427f6b thread_start + 15\n"
     ]
    }
   ],
   "source": [
    "# guardar as informações\n",
    "\n",
    "nome_embarcacao = nav.find_element('xpath', '//*[@id=\"__next\"]/div/aside/div/div/div[4]/div[2]/div/h3/span/span')\n",
    "print(f'Nome: {nome_embarcacao.text}\\n')\n",
    "bandeira = nav.find_element('xpath', '//*[@id=\"tippy-148\"]/div/ul/li[1]/span')\n",
    "print(f'Bandeira: {bandeira.text}\\n')\n",
    "imo = nav.find_element('xpath', '//*[@id=\"tippy-148\"]/div/ul/li[2]/span')\n",
    "print(f'IMO: {imo.text}\\n')\n",
    "mmsi = nav.find_element('xpath', '//*[@id=\"tippy-148\"]/div/ul/li[3]/span/a')\n",
    "print(f'MMSI: {mmsi.text}\\n')\n",
    "code_chamada = nav.find_element('xpath', '//*[@id=\"tippy-148\"]/div/ul/li[4]/span')\n",
    "print(f'Código de chamada: {code_chamada.text}\\n')\n",
    "petrechos_pesca = nav.find_element('xpath', '//*[@id=\"tippy-148\"]/div/ul/li[7]/span')\n",
    "print(f'Petrechos de pesca: {petrechos_pesca.text}\\n')\n",
    "p_data_transmissao = nav.find_element('xpath', '//*[@id=\"tippy-148\"]/div/ul/li[5]/span')\n",
    "print(f'Primeira data de transmisão: {p_data_transmissao.text}\\n')\n",
    "u_data_transmissao = nav.find_element('xpath', '//*[@id=\"tippy-148\"]/div/ul/li[6]/span')\n",
    "print(f'Última data de transmissão: {u_data_transmissao.text}\\n')\n"
   ]
  }
 ],
 "metadata": {
  "kernelspec": {
   "display_name": "Python 3",
   "language": "python",
   "name": "python3"
  },
  "language_info": {
   "codemirror_mode": {
    "name": "ipython",
    "version": 3
   },
   "file_extension": ".py",
   "mimetype": "text/x-python",
   "name": "python",
   "nbconvert_exporter": "python",
   "pygments_lexer": "ipython3",
   "version": "3.9.6"
  },
  "orig_nbformat": 4
 },
 "nbformat": 4,
 "nbformat_minor": 2
}
